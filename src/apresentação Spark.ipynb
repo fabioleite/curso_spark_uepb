{
 "cells": [
  {
   "metadata": {},
   "cell_type": "markdown",
   "source": "## Curso de Introdução ao Apache Spark",
   "id": "ffa2288c41cb3dfe"
  },
  {
   "metadata": {},
   "cell_type": "markdown",
   "source": [
    "## [Apache Spark](https://spark.apache.org/)\n",
    "\n",
    "Apache Spark é uma plataforma de computação em *cluster* que fornece uma API para *programação distribuída* para *processamento de dados* em *larga escala*, semelhante ao modelo *MapReduce*, mas projetada para ser rápida para consultas interativas e algoritmos iterativos.\n",
    "\n",
    "### Processamento distribuído\n",
    "O Spark permite que você distribua dados e tarefas em clusters com vários nós. Imagine cada nó como um computador separado. A divisão dos dados torna mais fácil o trabalho com conjuntos de dados muito grandes porque cada nó funciona processa apenas uma parte parte do volume total de dados.\n",
    "\n",
    "![Spark paralell processing](docs/spark_paralell.webp)\n",
    "\n",
    "O Spark é amplamente utilizado em projetos analíticos nas seguintes frentes:\n",
    "\n",
    "- Preparação de dados\n",
    "- Modelos de machine learning\n",
    "- Análise de dados em tempo real"
   ],
   "id": "f3f3c678410873dd"
  },
  {
   "metadata": {},
   "cell_type": "markdown",
   "source": "### Princípios de Data Engineering",
   "id": "2aa69dc53460d1e4"
  },
  {
   "metadata": {
    "ExecuteTime": {
     "end_time": "2024-11-05T19:31:30.717310Z",
     "start_time": "2024-11-05T19:31:30.714052Z"
    }
   },
   "cell_type": "code",
   "source": "",
   "id": "265dd7e066abd5f",
   "outputs": [],
   "execution_count": null
  },
  {
   "metadata": {},
   "cell_type": "code",
   "outputs": [],
   "execution_count": null,
   "source": "",
   "id": "403e3dd8e26096d0"
  }
 ],
 "metadata": {
  "kernelspec": {
   "display_name": "Python 3",
   "language": "python",
   "name": "python3"
  },
  "language_info": {
   "codemirror_mode": {
    "name": "ipython",
    "version": 2
   },
   "file_extension": ".py",
   "mimetype": "text/x-python",
   "name": "python",
   "nbconvert_exporter": "python",
   "pygments_lexer": "ipython2",
   "version": "2.7.6"
  }
 },
 "nbformat": 4,
 "nbformat_minor": 5
}
